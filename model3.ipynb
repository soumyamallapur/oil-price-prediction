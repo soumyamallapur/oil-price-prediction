{
 "cells": [
  {
   "cell_type": "code",
   "execution_count": 1,
   "id": "5dc06722",
   "metadata": {},
   "outputs": [
    {
     "name": "stdout",
     "output_type": "stream",
     "text": [
      "WARNING:tensorflow:From C:\\Users\\Asus\\anaconda\\Lib\\site-packages\\keras\\src\\losses.py:2976: The name tf.losses.sparse_softmax_cross_entropy is deprecated. Please use tf.compat.v1.losses.sparse_softmax_cross_entropy instead.\n",
      "\n"
     ]
    },
    {
     "name": "stderr",
     "output_type": "stream",
     "text": [
      "2024-02-10 16:07:48.023 \n",
      "  \u001b[33m\u001b[1mWarning:\u001b[0m to view this Streamlit app on a browser, run it with the following\n",
      "  command:\n",
      "\n",
      "    streamlit run C:\\Users\\Asus\\anaconda\\Lib\\site-packages\\ipykernel_launcher.py [ARGUMENTS]\n"
     ]
    }
   ],
   "source": [
    "# Import necessary libraries\n",
    "import pandas as pd\n",
    "import numpy as np\n",
    "import streamlit as st\n",
    "from tensorflow.keras.models import load_model\n",
    "from sklearn.preprocessing import MinMaxScaler\n",
    "\n",
    "# Load the LSTM model\n",
    "def load_lstm_model():\n",
    "    model = load_model(\"C:/Users/Asus/Documents/oil price prediction_pro1/crude_oil_price_lstm_model\")  \n",
    "    return model\n",
    "\n",
    "# Function to preprocess data for LSTM model\n",
    "def preprocess_data(df):\n",
    "    scaler = MinMaxScaler()\n",
    "    df['Date'] = pd.to_datetime(df['Date'])\n",
    "    df.set_index('Date', inplace=True)\n",
    "    df['Scaled_Price'] = scaler.fit_transform(df[['Closing Value']])\n",
    "    return df, scaler\n",
    "\n",
    "# Function to predict future data using the LSTM model\n",
    "def predict_future_data(model, scaler, input_data):\n",
    "    prediction = model.predict(input_data)\n",
    "    prediction = scaler.inverse_transform(prediction)\n",
    "    return prediction\n",
    "\n",
    "# Load the dataset\n",
    "df = pd.read_excel('C:/Users/Asus/Documents/oil price prediction_pro1/crude_oil_price_daily.xlsx') \n",
    "df = df.dropna()\n",
    "df.isnull().sum()\n",
    "\n",
    "# Preprocess data\n",
    "processed_data, scaler = preprocess_data(df)\n",
    "\n",
    "# Streamlit app\n",
    "def main():\n",
    "    st.title(\"Oil Price Prediction\")\n",
    "\n",
    "    # User input for date selection\n",
    "    selected_month = st.selectbox(\"Select a month:\", range(1, 13))\n",
    "    selected_year = st.number_input(\"Select a year:\", min_value=processed_data.index.year.min(), max_value=processed_data.index.year.max())\n",
    "\n",
    "    # User input for prediction\n",
    "    if st.button(\"Predict\"):\n",
    "        # Convert user input to datetime\n",
    "        selected_date = pd.to_datetime(f\"{selected_year}-{selected_month}-01\")\n",
    "    \n",
    "        # Get the previous 30 days of data, if available\n",
    "        input_data = processed_data.loc[:selected_date]['Scaled_Price'].tail(30)\n",
    "    \n",
    "        # Check if there are enough data points\n",
    "        if len(input_data) >= 30:\n",
    "            # Reshape input data for LSTM model\n",
    "            input_data = np.reshape(input_data.values, (1, 30, 1))\n",
    "        \n",
    "            # Load the LSTM model\n",
    "            lstm_model = load_lstm_model()\n",
    "        \n",
    "            # Predict for the selected date\n",
    "            prediction = predict_future_data(lstm_model, scaler, input_data)\n",
    "        \n",
    "            # Display the prediction\n",
    "            st.write(f\"Prediction for {selected_date}: ${prediction[0, 0]:.2f}\")\n",
    "        else:\n",
    "            st.warning(\"Insufficient data for prediction. Please select an earlier date.\")\n",
    "\n",
    "if __name__ == \"__main__\":\n",
    "    main()\n",
    "\n"
   ]
  },
  {
   "cell_type": "code",
   "execution_count": null,
   "id": "ad6239b7",
   "metadata": {},
   "outputs": [],
   "source": []
  }
 ],
 "metadata": {
  "kernelspec": {
   "display_name": "Python 3 (ipykernel)",
   "language": "python",
   "name": "python3"
  },
  "language_info": {
   "codemirror_mode": {
    "name": "ipython",
    "version": 3
   },
   "file_extension": ".py",
   "mimetype": "text/x-python",
   "name": "python",
   "nbconvert_exporter": "python",
   "pygments_lexer": "ipython3",
   "version": "3.11.5"
  }
 },
 "nbformat": 4,
 "nbformat_minor": 5
}
